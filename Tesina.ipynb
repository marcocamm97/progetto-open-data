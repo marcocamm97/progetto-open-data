{
 "cells": [
  {
   "cell_type": "markdown",
   "metadata": {},
   "source": [
    "<div align=\"center\">\n",
    "    <img src=\"immagini/LogoUnipa.jpg\" width=\"200\" height=\"auto\"> <center>\n",
    "    <br>\n",
    "\n",
    "# <center> **Università degli Studi di Palermo**\n",
    "# <center> **Corso di Laurea triennale in Informatica**\n",
    "# <center> **Tecniche per la gestione degli Open Data - Elaborato finale**\n",
    "<br>\n",
    "\n",
    "### <center> _Professore: Davide Taibi_\n",
    "### <center> _Studente: Marco Cammalleri (matricola 0653734)_\n",
    "\n",
    "\n",
    "***\n",
    "***"
   ]
  },
  {
   "cell_type": "markdown",
   "metadata": {},
   "source": [
    "# __Indice__"
   ]
  },
  {
   "cell_type": "markdown",
   "metadata": {},
   "source": [
    "###  [`1. - Introduzione`](#1-introduzione)\n",
    "### [`2. - Selezione dei dataset e relative licenze`](#2-selezione-dei-dataset-e-relative-licenze)\n",
    "### [`3. - Elaborazione dei dataset`](#3-elaborazione-dei-dataset)\n",
    "##### &emsp;&emsp; [`3.1 - Lettura e pulizia`](#31-lettura-e-pulizia)\n",
    "##### &emsp;&emsp; [`3.2 - Merge`](#32-merge)\n",
    "### [`4. - Ontologia`](#4-ontologia)\n",
    "### [`5. - Passaggio a 5 stelle`](#5-passaggio-a-5-stelle)\n",
    "### [`6. - Data visualization`](#6-data-visualization)"
   ]
  },
  {
   "cell_type": "markdown",
   "metadata": {},
   "source": [
    "***\n",
    "***\n",
    "# __`1) Introduzione`__"
   ]
  },
  {
   "cell_type": "markdown",
   "metadata": {},
   "source": [
    "Si suppone che un utente, mentre si trovava in vacanza a Firenze, abbia ricevuto una notifica di cancellazione del volo, il tutto dopo aver fatto check-out nell'albergo in cui alloggiava. Deve quindi cercare un nuovo albergo.\n",
    "\n",
    "Si suppone inoltre che voglia alloggiare in una struttura ricettiva che si trovi entro un raggio di x chilometri dalla sua posizione. Interrogherà quindi il servizio affinché possa avere una lista delle possibili strutture ricettive."
   ]
  },
  {
   "cell_type": "markdown",
   "metadata": {},
   "source": [
    "L'utente sceglie di effettuare una valutazione delle strutture basandosi sul minor rapporto metri/stelle.\n",
    "Dopo aver alloggiato, dovrà decidere dove cenare. Sceglierà il ristorante allo stesso modo, data la sua posizione."
   ]
  },
  {
   "cell_type": "markdown",
   "metadata": {},
   "source": [
    "***\n",
    "***\n",
    "# __`2) Selezione dei dataset e relative licenze`__"
   ]
  },
  {
   "cell_type": "markdown",
   "metadata": {},
   "source": [
    "1)Il primo dataset è relativo alle Strutture ricettive (parziali, georeferenziate) della regione Toscana, fornito dalla Regione Toscana (https://www.regione.toscana.it/) le cui colonne sono, nel dataset originale:\n",
    "\n",
    "-_id_: codice univoco delle strutture<br>\n",
    "-_url_: riferimento della struttura nella mappa<br>\n",
    "-_name_: nome<br>\n",
    "-_category_: categoria<br>\n",
    "-_phone_: telefono<br>\n",
    "-_fax_ <br>\n",
    "-_address_: indirizzo della struttura<br>\n",
    "-_city_: città<br>\n",
    "-_province_: provincia<br>\n",
    "-_website_: sito web<br>\n",
    "-_email_ <br>\n",
    "-_facilities_: riga relativa ai servizi aggiuntivi della struttura <br>\n",
    "-_rate_: valutazione in stelle da 1 a 5<br>\n",
    "-_DO_Y_ e _DO_X_: relativi alle coordinate <br>\n",
    "-_PRO_COM_: relativo al comune <br>\n",
    "-_ISTATPRO_ e _ISTATREG_: relativi rispettivamente alla provincia e alla regione\n",
    "\n",
    "\n",
    "Licenza: https://creativecommons.org/licenses/by/4.0/"
   ]
  },
  {
   "cell_type": "markdown",
   "metadata": {},
   "source": [
    "2)Il secondo dataset si riferisce ai ristoranti della provincia di Firenze e si può raggiungere tramite il collegamento:\n",
    "https://dati.toscana.it/dataset/rt-vetrinatoscana\n",
    "\n",
    "Licenza: https://opendefinition.org/licenses/cc-by/. Nel dataset originale le colonne sono: <br>\n",
    "-_id_<br>\n",
    "-_nome_<br>\n",
    "-_lat_<br>\n",
    "-_lon_<br>\n",
    "-_tipologia_<br>\n",
    "-_indirizzo_<br>\n",
    "-_cap_<br>\n",
    "-_comune_<br>\n",
    "-_province_<br>\n",
    "-_email_<br>\n",
    "-_telefono_<br>\n",
    "-_fax_<br>"
   ]
  },
  {
   "cell_type": "markdown",
   "metadata": {},
   "source": [
    "3)Dataset relativo al movimento della popolazione della regione Toscana tra l'1 Gennaio e il 31 Dicembre 2022, che può essere utile nella fase di _Data Visualization_. <br> \n",
    "Fonte: https://dati.toscana.it <br>\n",
    "Licenze: https://opendefinition.org/od/2.1/en/ <br>\n",
    "\n",
    "Le colonne sono:<br>\n",
    "\n",
    "-_Anno_<br>\n",
    "-_Codice Comune_<br>\n",
    "-_Provincia_<br>\n",
    "-_Comune_<br>\n",
    "-_POPOLAZIONE RESIDENTE AL 1 GENNAIO 2022_<br>\n",
    "-_NATI VIVI_<br>\n",
    "-_MORTI_<br>\n",
    "-_ISCRITTI DALL'ESTERO_<br>\n",
    "-_ISCRITTI DALL'INTERNO_<br>\n",
    "-_ALTRI ISCRITTI_<br>\n",
    "-_CANCELLATI PER L'ESTERO_<br>\n",
    "-_CANCELLATI PER L'INTERNO_<br>\n",
    "-_ALTRI CANCELLATI_<br>\n",
    "-_SALDO CENSUARIO TOTALE_<br>\n",
    "-_POPOLAZIONE RESIDENTE AL 31 DICEMBRE 2022_<br>\n",
    "\n",
    "Dei tre dataset è quello che verrà scremato di più, infatti rimarranno soltanto le colonne relative al Comune, alla provincia e alla popolazione totale alla data 31 Dicembre 2021. <br>\n",
    "\n",
    "I dataset si possono trovare nel percorso \"_dataset/originali_\"."
   ]
  },
  {
   "cell_type": "markdown",
   "metadata": {},
   "source": [
    "***\n",
    "***\n",
    "# __`3) Elaborazione dei dataset`__\n",
    "\n",
    "_`3.1 Lettura e pulizia`_"
   ]
  },
  {
   "cell_type": "markdown",
   "metadata": {},
   "source": [
    "Per quanto riguarda la pulizia dei dataset, ho utilizzato in una prima fase OpenRefine con cui ho inizialmente cancellato quelle righe il cui campo \"city\" è diverso da \"Firenze\", dal momento che al cliente interessa alloggiare in tale città, attraverso il comando \"Filter\"."
   ]
  },
  {
   "cell_type": "markdown",
   "metadata": {},
   "source": [
    "<div align=\"center\">\n",
    "    <img src=\"immagini/filter.png\" width=\"1000\" height=\"auto\"> <center>\n",
    "    <br>"
   ]
  },
  {
   "cell_type": "markdown",
   "metadata": {},
   "source": [
    "Sempre tramite OpenRefine ho effettuato la modifica alle celle che presentavano errori grammaticali, come le lettere apostrofate laddove sarebbero dovute essere accentate. Ho utilizzato le espressioni regolari e la funzione \"replace\":\n",
    "<div align=\"center\">\n",
    "    <img src=\"immagini/accenti.png\" width=\"500\" height=\"auto\"> <center>\n",
    "    <br>\n",
    "\n"
   ]
  },
  {
   "cell_type": "markdown",
   "metadata": {},
   "source": [
    "Un'altra operazione di pulizia è stata eseguita relativamente ai numeri di telefono (e fax) che presentavano \"+39\" all'inizio dell'occorrenza: dal momento che la maggior parte dei numeri non presentano tale occorrenza, ho deciso di per far sì che i valori fossero coerenti, sia nel file relativo alle strutture ricettive, sia in quello relativo alle botteghe e ristoranti. Anche ciò è stato fatto tramite la funzione _replace_ di OpenRefine:\n",
    "\n",
    "\n",
    "<div align=\"center\">\n",
    "    <img src=\"immagini/Screenshot 2024-01-21 180432.png\" width=\"500\" height=\"auto\"> <center>\n",
    "    <br>"
   ]
  },
  {
   "cell_type": "markdown",
   "metadata": {},
   "source": [
    "Alcuni numeri telefonici presentavano invece caratteri come \"/\" che ho preferito cancellare affinché si presentassero nella forma degli altri.\n",
    "<div align=\"center\">\n",
    "    <img src=\"immagini/Screenshot 2024-01-22 121515.png\" width=\"500\" height=\"auto\"> <center>\n",
    "    <br>\n"
   ]
  },
  {
   "cell_type": "markdown",
   "metadata": {},
   "source": [
    "Inoltre, in previsione del merge, ho modificato i valori del campo relativo all'id per assicurarmi dell'unicità di questi: in particolare, ho aggiunto le occorrenze \"sr\" e \"rb\" alla fine dei valori del campo \"id\" rispettivamente nel dataset sulle strutture ricettive, e in quello dei ristoranti e delle botteghe:\n",
    "<div align=\"center\">\n",
    "    <img src=\"immagini/editcolumnid.png\" width=\"500\" height=\"auto\"> <center>\n",
    "    <br>"
   ]
  },
  {
   "cell_type": "markdown",
   "metadata": {},
   "source": [
    "\n",
    "Nei campi in cui fosse opportuno, ho fatto in modo che, avendo una sequenza separata da spazi, soltando le iniziali fossero maiuscole. \n",
    "\n",
    "<div align=\"center\">\n",
    "    <img src=\"immagini/case.png\" width=\"500\" height=\"auto\"> <center>\n",
    "    <br>"
   ]
  },
  {
   "cell_type": "markdown",
   "metadata": {},
   "source": [
    "Fatte delle prime operazioni di raffinamento dei dataset con _OpenRefine_, facciamo un'ulteriore pulizia con _Pandas_ preventiva al merge:"
   ]
  },
  {
   "cell_type": "code",
   "execution_count": 22,
   "metadata": {},
   "outputs": [
    {
     "name": "stdout",
     "output_type": "stream",
     "text": [
      "       Id                       Nome  Latitudine  Longitudine   Categoria  \\\n",
      "0  2363rb           Borgo San Jacopo   43.700650    10.744434  Ristorante   \n",
      "1   686rb    Ristorante \"La Certosa\"   43.730208    11.223357  Ristorante   \n",
      "2  2026rb           Osteria Di Giogo   43.747127    11.294038  Ristorante   \n",
      "3  2351rb  Erboristeria Albero Verde   43.749731    11.221211     Bottega   \n",
      "4  2644rb            Trattoria Omero   43.751175    11.256254  Ristorante   \n",
      "\n",
      "                    Indirizzo      cap                Comune Provincia  \\\n",
      "0   Via Borgo San Jacopo 32/r  50125.0               Firenze   Firenze   \n",
      "1               Via Cassia, 1  50124.0               Firenze   Firenze   \n",
      "2        Via Chiantigiana 106  50126.0  Ponte A Ema, Firenze   Firenze   \n",
      "3   Via Senese, 221-223/rosso  50124.0     Galluzzo, Firenze   Firenze   \n",
      "4  Via Pian Dei Giullari 11/r  50125.0      Arcetri, Firenze   Firenze   \n",
      "\n",
      "                        Email     Telefono          Fax SiglaProvincia  \\\n",
      "0  bsj@lungarnocollection.com    055281661          NaN             FI   \n",
      "1             ristcert@tin.it  055 2048876  055 2047109             FI   \n",
      "2       infi@osteria-giogo.it   0556461311          NaN             FI   \n",
      "3        info@alberoverde.net   0552047446          NaN             FI   \n",
      "4    omero@ristoranteomero.it    055220053   0552336183             FI   \n",
      "\n",
      "   Valutazione  EsisteValutazione  \n",
      "0            1                  0  \n",
      "1            1                  0  \n",
      "2            1                  0  \n",
      "3            1                  0  \n",
      "4            1                  0  \n"
     ]
    }
   ],
   "source": [
    "import pandas as pd\n",
    "\n",
    "\n",
    "sr = pd.read_csv(\"dataset/prima_pulizia/SR_Refine.csv\")\n",
    "rb = pd.read_csv(\"dataset/prima_pulizia/RB_Refine.csv\")\n",
    "\n",
    "# Rinominiamo le colonne di sr\n",
    "sr.rename(columns={\"id\": \"Id\", \"name\": \"Nome\", \"category\": \"Categoria\", \"phone\": \"Telefono\", \"fax\": \"Fax\", \"email\": \"Email\", \"city\": \"Comune\", \"province\": \"SiglaProvincia\", \"DO_Y\": \"Latitudine\", \"DO_X\": \"Longitudine\", \"ISTATPRO\": \"Provincia\", \"address\": \"Indirizzo\", \"rate\": \"Valutazione\"}, inplace=True)\n",
    "rb.rename(columns={\"id\": \"Id\", \"nome\": \"Nome\", \"tipologia\": \"Categoria\", \"telefono\": \"Telefono\", \"fax\": \"Fax\", \"email\": \"Email\", \"provincia\": \"Provincia\", \"lat\": \"Latitudine\", \"lon\": \"Longitudine\", \"comune\": \"Comune\", \"indirizzo\": \"Indirizzo\"}, inplace=True)\n",
    "\n",
    "\n",
    "print(rb.head())\n",
    "\n"
   ]
  },
  {
   "cell_type": "markdown",
   "metadata": {},
   "source": [
    "Adesso aggiungo al dataset rb una colonna \"SiglaProvincia\" in cui, se ad esempio nel campo \"Provincia\" ho Arezzo\n",
    "il valore corrispondente in \"SiglaProvincia\" sarà \"AR\" e così via per tutte le province della Toscana. "
   ]
  },
  {
   "cell_type": "code",
   "execution_count": 16,
   "metadata": {},
   "outputs": [
    {
     "name": "stdout",
     "output_type": "stream",
     "text": [
      "       Id                       Nome  Latitudine  Longitudine   Categoria  \\\n",
      "0  2363rb           Borgo San Jacopo   43.700650    10.744434  Ristorante   \n",
      "1   686rb    Ristorante \"La Certosa\"   43.730208    11.223357  Ristorante   \n",
      "2  2026rb           Osteria Di Giogo   43.747127    11.294038  Ristorante   \n",
      "3  2351rb  Erboristeria Albero Verde   43.749731    11.221211     Bottega   \n",
      "4  2644rb            Trattoria Omero   43.751175    11.256254  Ristorante   \n",
      "\n",
      "                    Indirizzo      cap                Comune Provincia  \\\n",
      "0   Via Borgo San Jacopo 32/r  50125.0               Firenze   Firenze   \n",
      "1               Via Cassia, 1  50124.0               Firenze   Firenze   \n",
      "2        Via Chiantigiana 106  50126.0  Ponte A Ema, Firenze   Firenze   \n",
      "3   Via Senese, 221-223/rosso  50124.0     Galluzzo, Firenze   Firenze   \n",
      "4  Via Pian Dei Giullari 11/r  50125.0      Arcetri, Firenze   Firenze   \n",
      "\n",
      "                        Email     Telefono          Fax SiglaProvincia  \n",
      "0  bsj@lungarnocollection.com    055281661          NaN             FI  \n",
      "1             ristcert@tin.it  055 2048876  055 2047109             FI  \n",
      "2       infi@osteria-giogo.it   0556461311          NaN             FI  \n",
      "3        info@alberoverde.net   0552047446          NaN             FI  \n",
      "4    omero@ristoranteomero.it    055220053   0552336183             FI  \n"
     ]
    }
   ],
   "source": [
    "\n",
    "def mappa_sigla(provincia):\n",
    "    toscana_sigle = {\"Arezzo\": \"AR\", \"Firenze\": \"FI\", \"Grosseto\": \"GR\", \"Livorno\": \"LI\", \"Lucca\": \"LU\",\n",
    "                     \"Massa Carrara\": \"MS\", \"Pisa\": \"PI\", \"Pistoia\": \"PT\", \"Prato\": \"PO\", \"Siena\": \"SI\"}\n",
    "    return toscana_sigle.get(provincia, provincia) if pd.notna(provincia) else provincia\n",
    "\n",
    "#Aggiungo la colonna \"SiglaProvincia\" utilizzando la funzione di mapping\n",
    "rb[\"SiglaProvincia\"] = rb[\"Provincia\"].apply(mappa_sigla)\n",
    "\n",
    "print(rb.head())"
   ]
  },
  {
   "cell_type": "markdown",
   "metadata": {},
   "source": [
    "Adesso aggiungo una nuova colonna \"Valutazione\" al dataset relativo al ristorante, i cui valori saranno fissati di default a 1. In entrambi i dataset creo una colonna \"EsisteRecensione\" che assume un valore booleano (In particolare 1 per il dataset relativo alle strutture ricettive e 0 per quello relativo ai ristoranti). Il motivo di tali scelte lo approfondirò nella fase dedicata alle query Sparql."
   ]
  },
  {
   "cell_type": "code",
   "execution_count": 17,
   "metadata": {},
   "outputs": [],
   "source": [
    "rb[\"Valutazione\"] = 1\n",
    "sr[\"EsisteValutazione\"] = 1\n",
    "rb[\"EsisteValutazione\"] = 0\n",
    "\n",
    "sr.to_csv(\"dataset/prima_pulizia/SR_Refine.csv\", index=False)\n",
    "rb.to_csv(\"dataset/prima_pulizia/RB_Refine.csv\", index=False)\n"
   ]
  },
  {
   "cell_type": "markdown",
   "metadata": {},
   "source": [
    "Elimino le colonne superflue o che non sono in comune tra i due dataset. Gestisco i dati mancanti"
   ]
  },
  {
   "cell_type": "code",
   "execution_count": 3,
   "metadata": {},
   "outputs": [
    {
     "name": "stdout",
     "output_type": "stream",
     "text": [
      "Id                    object\n",
      "Nome                  object\n",
      "Categoria             object\n",
      "Telefono              object\n",
      "Indirizzo             object\n",
      "Comune                object\n",
      "SiglaProvincia        object\n",
      "Email                 object\n",
      "Valutazione            int64\n",
      "Latitudine           float64\n",
      "Longitudine          float64\n",
      "Provincia             object\n",
      "EsisteValutazione      int64\n",
      "dtype: object\n",
      "Id                    object\n",
      "Nome                  object\n",
      "Latitudine           float64\n",
      "Longitudine          float64\n",
      "Categoria             object\n",
      "Indirizzo             object\n",
      "Comune                object\n",
      "Provincia             object\n",
      "Email                 object\n",
      "Telefono              object\n",
      "SiglaProvincia        object\n",
      "Valutazione            int64\n",
      "EsisteValutazione      int64\n",
      "dtype: object\n",
      "-------------------------\n",
      "Numero di righe con valori NaN nelle colonne (Strutture ricettive): 0\n",
      "-------------------------\n",
      "Numero di righe con valori NaN nelle colonne (Ristoranti e botteghe): 0\n"
     ]
    }
   ],
   "source": [
    "import pandas as pd\n",
    "\n",
    "\n",
    "sr = pd.read_csv(\"SR_Refine.csv\")\n",
    "rb = pd.read_csv(\"RB_Refine.csv\")\n",
    "\n",
    "\n",
    "#Colonne da eliminare:\n",
    "colonne_sr = [\"url\", \"website\", \"facilities\", \"PRO_COM\", \"Regione\", \"Fax\"]\n",
    "sr = sr.drop(columns=colonne_sr)\n",
    "\n",
    "colonne_rb = [\"cap\", \"Fax\"]\n",
    "rb = rb.drop(columns=colonne_rb)\n",
    "\n",
    "#Voglio verificare anche che i dati delle due tabelle abbiano lo stesso tipo:\n",
    "###\n",
    "tipi_di_dati = sr.dtypes\n",
    "print(tipi_di_dati)\n",
    "\n",
    "tipi_di_dati2 = rb.dtypes\n",
    "print(tipi_di_dati2)\n",
    "\n",
    "#-----------------------------\n",
    "\n",
    "#Cancellazione delle righe con dei valori NaN e verifica della loro assenza\n",
    "\n",
    "sr = sr.dropna()\n",
    "rb = rb.dropna()\n",
    "\n",
    "\n",
    "\n",
    "sr_clean = sr.dropna()\n",
    "rb_clean = rb.dropna()\n",
    "\n",
    "nan_rows_info = sr[sr[[\"Id\", \"Nome\", \"Categoria\", \"Telefono\", \"Indirizzo\", \"Comune\", \"SiglaProvincia\", \"Email\", \"Valutazione\", \"Latitudine\", \"Longitudine\", \"Provincia\", \"EsisteValutazione\"]].isnull().any(axis=1)]\n",
    "\n",
    "\n",
    "numero_righe_nan = len(nan_rows_info)\n",
    "\n",
    "\n",
    "print(\"-------------------------\")\n",
    "print(\"Numero di righe con valori NaN nelle colonne (Strutture ricettive):\", numero_righe_nan)\n",
    "print(\"-------------------------\")\n",
    "\n",
    "nan_rows_info2 = rb[rb[[\"Id\", \"Nome\", \"Categoria\", \"Telefono\", \"Indirizzo\", \"Comune\", \"SiglaProvincia\", \"Email\", \"Valutazione\", \"Latitudine\", \"Longitudine\", \"Provincia\", \"EsisteValutazione\"]].isnull().any(axis=1)]\n",
    "\n",
    "\n",
    "numero_righe_nan2 = len(nan_rows_info2)\n",
    "print(\"Numero di righe con valori NaN nelle colonne (Ristoranti e botteghe):\", numero_righe_nan2)\n",
    "\n",
    "\n",
    "\n"
   ]
  },
  {
   "cell_type": "code",
   "execution_count": 35,
   "metadata": {},
   "outputs": [
    {
     "name": "stdout",
     "output_type": "stream",
     "text": [
      "    Id             Nome Categoria     Telefono                     Indirizzo  \\\n",
      "0  2sr            Flora  Alberghi  0586 600015              Via Del Mare, 26   \n",
      "1  3sr  Hotel Hermitage  Alberghi  0586 600218         Via Dei Melograni, 13   \n",
      "2  5sr  Hotel Marinetta  Alberghi  0586 600598  Via Dei Cavalleggeri Nord, 3   \n",
      "3  6sr       Hotel Nina  Alberghi  0586 600039              Via Del Forte, 7   \n",
      "4  9sr     Varo Village  Alberghi  0586 600500            Via Del Forte, 1-5   \n",
      "\n",
      "    Comune SiglaProvincia                           Email  Valutazione  \\\n",
      "0  Bibbona             LI              info@florahotel.eu            3   \n",
      "1  Bibbona             LI  info@hotelhermitagebibbona.com            4   \n",
      "2  Bibbona             LI          info@hotelmarinetta.it            4   \n",
      "3  Bibbona             LI               info@hotelnina.it            3   \n",
      "4  Bibbona             LI            info@varovillage.com            4   \n",
      "\n",
      "   Latitudine  Longitudine Provincia  EsisteValutazione  \n",
      "0   43.246453    10.527617   Livorno                  1  \n",
      "1   43.244704    10.534241   Livorno                  1  \n",
      "2   43.248586    10.529108   Livorno                  1  \n",
      "3   43.238511    10.529345   Livorno                  1  \n",
      "4   43.239195    10.531206   Livorno                  1  \n"
     ]
    }
   ],
   "source": [
    "print(sr.head())\n",
    "\n",
    "\n",
    "sr.to_csv('dataset/pre-merge/SR_Refine_final.csv', index=False)\n",
    "rb.to_csv('dataset/pre-merge/RB_Refine_final.csv', index=False)"
   ]
  },
  {
   "cell_type": "markdown",
   "metadata": {},
   "source": [
    "_`3.2 Merge`_\n",
    "\n",
    "Effettuiamo un _Merge_ tra il dataset \"SR_Refine_final\" relativo alle Strutture ricettive, e \"RB_Refine_final\" relativo a ristoranti e botteghe, attraverso la funzione _concat_ di pandas"
   ]
  },
  {
   "cell_type": "code",
   "execution_count": 1,
   "metadata": {},
   "outputs": [],
   "source": [
    "import pandas as pd\n",
    "\n",
    "sr = pd.read_csv('dataset/pre-merge/SR_Refine_final.csv')\n",
    "rb = pd.read_csv('dataset/pre-merge/RB_Refine_final.csv')\n",
    "\n",
    "\n",
    "m = pd.concat([sr, rb], axis = 1)\n",
    "\n",
    "\n",
    "m.to_csv('SR_RB_Merged.csv', index=False, encoding='utf-8')\n"
   ]
  },
  {
   "cell_type": "code",
   "execution_count": 40,
   "metadata": {},
   "outputs": [
    {
     "name": "stdout",
     "output_type": "stream",
     "text": [
      "    Id             Nome Categoria     Telefono                     Indirizzo  \\\n",
      "0  2sr            Flora  Alberghi  0586 600015              Via Del Mare, 26   \n",
      "1  3sr  Hotel Hermitage  Alberghi  0586 600218         Via Dei Melograni, 13   \n",
      "2  5sr  Hotel Marinetta  Alberghi  0586 600598  Via Dei Cavalleggeri Nord, 3   \n",
      "3  6sr       Hotel Nina  Alberghi  0586 600039              Via Del Forte, 7   \n",
      "4  9sr     Varo Village  Alberghi  0586 600500            Via Del Forte, 1-5   \n",
      "\n",
      "    Comune SiglaProvincia                           Email  Valutazione  \\\n",
      "0  Bibbona             LI              info@florahotel.eu            3   \n",
      "1  Bibbona             LI  info@hotelhermitagebibbona.com            4   \n",
      "2  Bibbona             LI          info@hotelmarinetta.it            4   \n",
      "3  Bibbona             LI               info@hotelnina.it            3   \n",
      "4  Bibbona             LI            info@varovillage.com            4   \n",
      "\n",
      "   Latitudine  Longitudine Provincia  EsisteValutazione  \n",
      "0   43.246453    10.527617   Livorno                  1  \n",
      "1   43.244704    10.534241   Livorno                  1  \n",
      "2   43.248586    10.529108   Livorno                  1  \n",
      "3   43.238511    10.529345   Livorno                  1  \n",
      "4   43.239195    10.531206   Livorno                  1  \n"
     ]
    }
   ],
   "source": [
    "print(m.head())"
   ]
  },
  {
   "cell_type": "markdown",
   "metadata": {},
   "source": [
    "Facciamo anche il merge con il dataset relativo alla popolazione, dopo aver fatto delle operazioni di pulizia preventive."
   ]
  },
  {
   "cell_type": "code",
   "execution_count": 2,
   "metadata": {},
   "outputs": [],
   "source": [
    "import pandas as pd\n",
    "\n",
    "df = pd.read_csv(\"dataset/originali/movimento_popolazione_2022.csv\")\n",
    "\n",
    "# Seleziono solo le colonne desiderate\n",
    "df_selected = df[[\"Territorio\", \"popolazione al 31 dicembre\"]]\n",
    "\n",
    "# Rinomino le colonne\n",
    "df_selected = df_selected.rename(columns={\"popolazione al 31 dicembre\": \"Popolazione\", \"Territorio\": \"Comune\"})\n",
    "\n",
    "df_selected.to_csv(\"dataset/prima_pulizia/popolazione.csv\", index=False)\n"
   ]
  },
  {
   "cell_type": "markdown",
   "metadata": {},
   "source": [
    "Altri due problemi da risolvere sono: i dati della colonna \"Popolazione\" sono di tipo float, e la stessa colonna presenta dei valori NaN, questo perché alcune denominazioni di comuni presentano leggere differenze a seconda dei singoli due dataset su cui dovremo svolgere l'operazione di merge. \n",
    "Risolviamo innanzitutto il problema dei valori NaN: facciamo in modo che i comuni rispettino dei pattern ben precisi per assicurarci della corrispondenza tra i due dataset, quindi utilizziamo nuovamente OpenRefine per far sì che anche i valori della colonna \"Comune\" del dataset relativo alla popolazione abbiano la proprietà \"_Title case_\". Inoltre eliminiamo, nel dataset dei locali, informazioni superflue come l'occorrenza \", Firenze\" dopo il comune.\n",
    "Infine facciamo il merge con la conversione da float a integer."
   ]
  },
  {
   "cell_type": "code",
   "execution_count": 3,
   "metadata": {},
   "outputs": [
    {
     "name": "stdout",
     "output_type": "stream",
     "text": [
      "ID delle righe con valori mancanti nella colonna 'Popolazione':\n",
      "5                 Campo Nell'elba\n",
      "85                Poggio A Caiano\n",
      "113     Castiglione Della Pescaia\n",
      "114     Castiglione Della Pescaia\n",
      "115     Castiglione Della Pescaia\n",
      "                  ...            \n",
      "2069               Campo Di Marte\n",
      "2074               Campo Di Marte\n",
      "2082                    Trespiano\n",
      "2094                       Novoli\n",
      "2097                       Novoli\n",
      "Name: Comune, Length: 411, dtype: object\n",
      "    Id             Nome Categoria     Telefono                     Indirizzo  \\\n",
      "0  2sr            Flora  Alberghi  0586 600015              Via Del Mare, 26   \n",
      "1  3sr  Hotel Hermitage  Alberghi  0586 600218         Via Dei Melograni, 13   \n",
      "2  5sr  Hotel Marinetta  Alberghi  0586 600598  Via Dei Cavalleggeri Nord, 3   \n",
      "3  6sr       Hotel Nina  Alberghi  0586 600039              Via Del Forte, 7   \n",
      "4  9sr     Varo Village  Alberghi  0586 600500            Via Del Forte, 1-5   \n",
      "\n",
      "    Comune SiglaProvincia                           Email  Valutazione  \\\n",
      "0  Bibbona             LI              info@florahotel.eu            3   \n",
      "1  Bibbona             LI  info@hotelhermitagebibbona.com            4   \n",
      "2  Bibbona             LI          info@hotelmarinetta.it            4   \n",
      "3  Bibbona             LI               info@hotelnina.it            3   \n",
      "4  Bibbona             LI            info@varovillage.com            4   \n",
      "\n",
      "   Latitudine  Longitudine Provincia  EsisteValutazione  Popolazione  \n",
      "0   43.246453    10.527617   Livorno                  1         3181  \n",
      "1   43.244704    10.534241   Livorno                  1         3181  \n",
      "2   43.248586    10.529108   Livorno                  1         3181  \n",
      "3   43.238511    10.529345   Livorno                  1         3181  \n",
      "4   43.239195    10.531206   Livorno                  1         3181  \n"
     ]
    }
   ],
   "source": [
    "import pandas as pd\n",
    "\n",
    "\n",
    "df_sr_rb_merged = pd.read_csv(\"dataset/merge/SR-RB-Merged.csv\")\n",
    "df_popolazione = pd.read_csv(\"dataset/prima_pulizia/popolazione.csv\")\n",
    "\n",
    "# join basato su \"Comune\" e \"SiglaProvincia\"\n",
    "df_result = pd.merge(df_sr_rb_merged, df_popolazione, on=[\"Comune\"], how=\"left\")\n",
    "\n",
    "# Converto la colonna 'Popolazione' in interi, inclusi i NaN\n",
    "df_result['Popolazione'] = pd.to_numeric(df_result['Popolazione'], errors='coerce').astype('Int64')\n",
    "\n",
    "#Numero divalori mancanti nella colonna \"Popolazione\"\n",
    "missing_values_count = df_result['Popolazione'].isnull().sum()\n",
    "\n",
    "# Trovo gli ID delle righe con valori mancanti nella colonna \"Popolazione\"\n",
    "rows_with_missing_values = df_result[df_result['Popolazione'].isnull()]\n",
    "\n",
    "\n",
    "print(\"ID delle righe con valori mancanti nella colonna 'Popolazione':\")\n",
    "print(rows_with_missing_values['Comune'])\n",
    "\n",
    "\n",
    "print(df_result.head())\n",
    "\n",
    "df_result.to_csv(\"dataset/merge/Merged.csv\", index=False)\n"
   ]
  },
  {
   "cell_type": "markdown",
   "metadata": {},
   "source": [
    "Adesso disponiamo del dataset opportunamente pulito affinché si possano soddisfare le esigenze del cliente.<br>\n",
    "Supponiamo che il cliente si trovi alla Basilica di Santa Maria Novella a Firenze, e voglia vedere quali sono i locali nel raggio di 3 chilometri. Tra questi sceglierà quello col minor rapporto distanza/valutazione. Utilizziamo la libreria _geopy_."
   ]
  },
  {
   "cell_type": "code",
   "execution_count": 5,
   "metadata": {},
   "outputs": [
    {
     "name": "stdout",
     "output_type": "stream",
     "text": [
      "Locali all'interno del raggio di 3 km:\n",
      "                       Nome  Latitudine  Longitudine\n",
      "1083       Soggiorno Althea   43.765501    11.246307\n",
      "1084   Soggiorno Alessandra   43.769144    11.246198\n",
      "1086         Locanda Daniel   43.778062    11.253079\n",
      "1087         Cristina House   43.782814    11.255171\n",
      "1088      Pisani Pier Luigi   43.783307    11.275841\n",
      "...                     ...         ...          ...\n",
      "2088       Osteria Re Matto   43.785200    11.270850\n",
      "2089   Ristorante La Frasca   43.788473    11.266522\n",
      "2090    Osteria I Riffaioli   43.789073    11.270792\n",
      "2095             Rio Freddo   43.797825    11.242668\n",
      "2096  Ristorante Rio Freddo   43.797825    11.242668\n",
      "\n",
      "[229 rows x 3 columns]\n",
      "\n",
      "La distanza più piccola è: 0.08741285225604271 km\n",
      "Il luogo più vicino è: ('Universo', 43.7740221, 11.2499259, 3)\n",
      "Il rapporto minimo è: 0.029137617418680904\n",
      "Il luogo con il minor rapporto distanza/valutazione è: ('Universo', 43.7740221, 11.2499259, 3)\n"
     ]
    }
   ],
   "source": [
    "import geopy.distance\n",
    "import pandas as pd\n",
    "\n",
    "df = pd.read_csv(\"dataset/merge/Merged.csv\")\n",
    "\n",
    "#coordinate della Basilica di Santa Maria Novella\n",
    "target_lat = 43.77469620702199\n",
    "target_lon = 11.249366103544451\n",
    "target = (target_lat, target_lon)\n",
    "radius_km = 3\n",
    "\n",
    "#filtro all'interno del raggio\n",
    "df_filtered = df[df.apply(lambda row: geopy.distance.geodesic(target, (row['Latitudine'], row['Longitudine'])).km <= radius_km, axis=1)]\n",
    "\n",
    "#inizializzo le variabili per tracciare la distanza minima e il luogo corrispondente\n",
    "min_distance = float('inf')\n",
    "nearest_location = None\n",
    "\n",
    "min_ratio = float('inf')\n",
    "nearest_ratio_location = None\n",
    "\n",
    "\n",
    "for index, row in df_filtered.iterrows():\n",
    " \n",
    "    if row['Valutazione'] != 0:\n",
    "\n",
    "        location_coords = (row['Latitudine'], row['Longitudine'])\n",
    "        \n",
    "\n",
    "        distance = geopy.distance.geodesic(target, location_coords).km\n",
    "        \n",
    "       \n",
    "        ratio = distance / row['Valutazione']\n",
    "\n",
    "        # aggiorno la distanza minima e il luogo corrispondente se necessario\n",
    "        if distance < min_distance:\n",
    "            min_distance = distance\n",
    "            nearest_location = row['Nome'], row['Latitudine'], row['Longitudine'], row['Valutazione']\n",
    "            \n",
    "        if ratio < min_ratio:\n",
    "            min_ratio = ratio\n",
    "            nearest_ratio_location = row['Nome'], row['Latitudine'], row['Longitudine'], row['Valutazione']\n",
    "\n",
    "\n",
    "print(f\"Locali all'interno del raggio di {radius_km} km:\")\n",
    "print(df_filtered[['Nome', 'Latitudine', 'Longitudine']])\n",
    "\n",
    "print(f\"\\nLa distanza più piccola è: {min_distance} km\")\n",
    "print(f\"Il luogo più vicino è: {nearest_location}\")\n",
    "\n",
    "print(f\"Il rapporto minimo è: {min_ratio}\")\n",
    "print(f\"Il luogo con il minor rapporto distanza/valutazione è: {nearest_ratio_location}\")\n"
   ]
  },
  {
   "cell_type": "markdown",
   "metadata": {},
   "source": [
    "Appurato che l'utente allogerà all'hotel \"Universo\", deve adesso scegliere il ristorante dove cenare. Procediamo allo stesso modo:"
   ]
  },
  {
   "cell_type": "code",
   "execution_count": 1,
   "metadata": {},
   "outputs": [
    {
     "name": "stdout",
     "output_type": "stream",
     "text": [
      "Top 3 Locali:\n",
      "Nome: Ristorante Sabatini, Distanza: 0.07336347138349435 km, Valutazione: 1, Rapporto: 0.07336347138349435\n",
      "Nome: Giglio Rosso, Distanza: 0.09940643977472921 km, Valutazione: 1, Rapporto: 0.09940643977472921\n",
      "Nome: Trattoria La Madia, Distanza: 0.13128334050686882 km, Valutazione: 1, Rapporto: 0.13128334050686882\n",
      "\n",
      "La distanza più piccola è: 0.07336347138349435 km\n",
      "Il luogo più vicino è: ('Ristorante Sabatini', 43.77423159813, 11.25079005368, 1)\n",
      "Il rapporto minimo è: 0.07336347138349435\n",
      "Il luogo con il minor rapporto distanza/valutazione è: ('Ristorante Sabatini', 43.77423159813, 11.25079005368, 1)\n"
     ]
    }
   ],
   "source": [
    "import geopy.distance\n",
    "import pandas as pd\n",
    "\n",
    "df = pd.read_csv(\"dataset/merge/Merged.csv\")\n",
    "\n",
    "# Supponiamo che l'utente si trovi all'hotel Universo, le cui coordinate sono:\n",
    "target_lat = 43.7740221\n",
    "target_lon = 11.2499259\n",
    "target = (target_lat, target_lon)\n",
    "\n",
    "# Inizializzo le variabili per tracciare la distanza minima e il luogo corrispondente\n",
    "min_distance = float('inf')\n",
    "nearest_location = None\n",
    "\n",
    "min_ratio = float('inf')\n",
    "nearest_ratio_location = None\n",
    "\n",
    "# Lista per tenere traccia dei risultati\n",
    "top_locations = []\n",
    "\n",
    "for index, row in df.iterrows():\n",
    "    # Controllo se il valore di 'Valutazione' è diverso da zero prima di eseguire la divisione\n",
    "    if row['Valutazione'] != 0 and row['Categoria'] in ['Ristorante', 'Bottege']:\n",
    "        # Coordiate del luogo corrente\n",
    "        location_coords = (row['Latitudine'], row['Longitudine'])\n",
    "        \n",
    "        # Calcolo la distanza\n",
    "        distance = geopy.distance.geodesic(target, location_coords).km\n",
    "        \n",
    "        # Calcolo il rapporto distanza/valutazione\n",
    "        ratio = distance / row['Valutazione']\n",
    "\n",
    "\n",
    "        if distance < min_distance:\n",
    "            min_distance = distance\n",
    "            nearest_location = row['Nome'], row['Latitudine'], row['Longitudine'], row['Valutazione']\n",
    "            \n",
    "        if ratio < min_ratio:\n",
    "            min_ratio = ratio\n",
    "            nearest_ratio_location = row['Nome'], row['Latitudine'], row['Longitudine'], row['Valutazione']\n",
    "\n",
    "\n",
    "        top_locations.append({\n",
    "            'Nome': row['Nome'],\n",
    "            'Distanza': distance,\n",
    "            'Valutazione': row['Valutazione'],\n",
    "            'Rapporto': ratio\n",
    "        })\n",
    "\n",
    "\n",
    "top_locations = sorted(top_locations, key=lambda x: x['Distanza'])[:3]\n",
    "\n",
    "\n",
    "print(\"Top 3 Locali:\")\n",
    "for loc in top_locations:\n",
    "    print(f\"Nome: {loc['Nome']}, Distanza: {loc['Distanza']} km, Valutazione: {loc['Valutazione']}, Rapporto: {loc['Rapporto']}\")\n",
    "\n",
    "print(f\"\\nLa distanza più piccola è: {min_distance} km\")\n",
    "print(f\"Il luogo più vicino è: {nearest_location}\")\n",
    "\n",
    "print(f\"Il rapporto minimo è: {min_ratio}\")\n",
    "print(f\"Il luogo con il minor rapporto distanza/valutazione è: {nearest_ratio_location}\")\n"
   ]
  },
  {
   "cell_type": "markdown",
   "metadata": {},
   "source": [
    "***\n",
    "***\n",
    "# __`4) Ontologia`__\n",
    "\n",
    "Per l'ontologia ho innanzitutto definito opportunamente l'URI chiamandolo http://www.localitoscana.it/ontology.\n",
    "Successivamente ho stabilito che _Comune_ e _Locale_ fossero le classi al livello più alto della gerarchia di ereditarietà (al di sotto di _Thing_), nonché rispettivamente _Dominio_ e _Range_ dell'_Object Property_ \"_isIn_\".<br>\n",
    "_Locale_ a sua volta eredita le sotto-classi _Struttura Ricettiva_ e _Ristorazione_, che a loro volta ereditano rispettivamente le sotto-classi relative alle diverse strutture ricettive e alle diverse attività di ristorazione.<br>\n",
    "Per quanto riguarda invece le _Data-type Properties_ si hanno, per i locali _hasProvince_ (che eredita _hasComune_ e _hasProvinceAbb_), _hasAddress_, _hasRating_, _hasBoolFlag_ (un indicatore che contrassegna l'esistenza o meno di una recensione per un locale), _hasCategory_, hasId, _hasLat_ (latitudine), _hasLon_ (longitudine), _hasName_, _hasPhone_; <br>\n",
    "per i comuni invece si hanno _hasProvince_ e _hasName_ (in comune con _Locali_) e _hasPopulation_ che indica la popolazione totale di un determinato comune.<br>\n",
    "Il file è stato realizzato col software _Protégé_ ed esportato in formato _Turtle_ con la denominazione \"ontologia_locali_toscana.ttl\" nella cartella \"ontologia\".\n"
   ]
  },
  {
   "cell_type": "markdown",
   "metadata": {},
   "source": [
    "***\n",
    "***\n",
    "# __`5) Trasformazione dei dataset a 5 stelle`__"
   ]
  },
  {
   "cell_type": "code",
   "execution_count": 30,
   "metadata": {},
   "outputs": [],
   "source": [
    "import urllib.parse\n",
    "import pandas as pd\n",
    "import math\n",
    "from rdflib import Graph, Literal, Namespace, URIRef, BNode\n",
    "from rdflib.namespace import RDF, OWL, XSD\n",
    "from SPARQLWrapper import SPARQLWrapper, JSON\n",
    "import ssl\n",
    "ssl._create_default_https_context = ssl._create_unverified_context\n",
    "\n",
    "g = Graph()\n",
    "\n",
    "base_uri = \"http://www.localitoscana.it/resource/\"\n",
    "\n",
    "lt_o = Namespace(\"http://www.localitoscana.it/ontology/\")\n",
    "g.bind(\"lt_o\", lt_o)\n",
    "\n",
    "lt_r = Namespace(\"http://www.localitoscana.it/resource/\")\n",
    "g.bind(\"lt_r\", lt_r)\n",
    "\n",
    "def urify(uri, res):\n",
    "    res = res.replace(\" \",\"_\").replace(\"\\'\",\"\")\n",
    "    return uri + urllib.parse.quote(res)"
   ]
  },
  {
   "cell_type": "code",
   "execution_count": 31,
   "metadata": {},
   "outputs": [],
   "source": [
    "def interlinkToDbpedia(res, comune):\n",
    "    sparql = SPARQLWrapper(\"http://dbpedia.org/sparql\")\n",
    "    query = f\"\"\"\n",
    "        SELECT ?res ?label\n",
    "        WHERE {{\n",
    "            ?res dbo:region dbr:Tuscany .\n",
    "            ?res rdfs:label ?label . \n",
    "            FILTER(LANG(?label)=\"it\")\n",
    "            FILTER REGEX(?label, \"^{comune}\", 'i') .\n",
    "        }}\n",
    "    \"\"\"\n",
    "\n",
    "    sparql.setQuery(query)\n",
    "    sparql.setReturnFormat(JSON)\n",
    "    results = sparql.query().convert()\n",
    "\n",
    "    if len(results[\"results\"][\"bindings\"]) > 0:\n",
    "        result = results[\"results\"][\"bindings\"][0]\n",
    "        g.add([res, OWL.sameAs, URIRef(result[\"res\"][\"value\"])])"
   ]
  },
  {
   "cell_type": "markdown",
   "metadata": {},
   "source": [
    "Una volta letto il csv finale, si esegue un'iterazione attraverso ogni riga del DataFrame df e, per ogni riga, eseguo le seguenti azioni:\n",
    "\n",
    "-Creazione di un oggetto URIRef (res) utilizzando la funzione urify per costruire un URI basato sul nome della località nella riga corrente.<br>\n",
    "-Chiamata della funzione interlinkToDbpedia fornendo l'URI dell'oggetto e il valore nella colonna 'Comune'.<br>\n",
    "-Aggiunta di triple RDF al grafo g per rappresentare la risorsa. Le triple includono informazioni come il tipo della risorsa, il nome e la categoria della località."
   ]
  },
  {
   "cell_type": "code",
   "execution_count": 33,
   "metadata": {},
   "outputs": [
    {
     "name": "stderr",
     "output_type": "stream",
     "text": [
      "C:\\Users\\camma\\AppData\\Roaming\\Python\\Python311\\site-packages\\IPython\\core\\interactiveshell.py:3488: UserWarning: Config option `timeout` not recognized by `IPCompleter`.\n",
      "  if await self.run_code(code, result, async_=asy):\n"
     ]
    },
    {
     "data": {
      "text/plain": [
       "<Graph identifier=Nb900944159b24067bfe6a99f4f64f20f (<class 'rdflib.graph.Graph'>)>"
      ]
     },
     "execution_count": 33,
     "metadata": {},
     "output_type": "execute_result"
    }
   ],
   "source": [
    "#aumentiamo il tempo di timeout oltre il quale viene sospesa l'esecuzione, poiché il dataset può essere \n",
    "#grande e comportare una lunga esecuzione\n",
    "%config Completer.timeout = 1000\n",
    "\n",
    "\n",
    "#dataset in formato csv pronto per la trasformazione a 5 stelle\n",
    "df = pd.read_csv(\"dataset/merge/Merged.csv\")\n",
    "\n",
    "# iterazione sul dataframe e chiamata della funzione di interlinking per ogni riga\n",
    "for index, row in df.iterrows():\n",
    "    res = URIRef(urify(base_uri, str(row['Id'])))\n",
    "    \n",
    "\n",
    "    interlinkToDbpedia(res, row['Comune'])\n",
    "    \n",
    "    # verifico se il valore di 'Popolazione' è NaN o mancante\n",
    "    if pd.notna(row['Popolazione']):\n",
    "        # converto il valore in un intero e aggiungi la tripla RDF\n",
    "        g.add([res, lt_o.hasCityOf, Literal(int(row['Popolazione']), datatype=XSD.integer)])\n",
    "    \n",
    "\n",
    "\n",
    "    g.add([res, RDF.type, lt_o.Localita])\n",
    "    g.add([res, lt_o.hasId, Literal(row['Id'], datatype=XSD.string)])\n",
    "    g.add([res, lt_o.hasName, Literal(row['Nome'], datatype=XSD.string)])\n",
    "    g.add([res, lt_o.hasCategory, Literal(row['Categoria'], datatype=XSD.string)])\n",
    "    g.add([res, lt_o.hasProv, Literal(row['Provincia'], datatype=XSD.string)])\n",
    "    g.add([res, lt_o.hasLatitude, Literal(row['Latitudine'], datatype=XSD.float)])\n",
    "    g.add([res, lt_o.hasLongitude, Literal(row['Longitudine'], datatype=XSD.float)])\n",
    "    g.add([res, lt_o.hasValutation, Literal(row['Valutazione'], datatype=XSD.integer)])\n",
    "    \n",
    "    #Serializzazione del grafo nei formati XML e ttl\n",
    "g.serialize(destination='dataset/5_stelle/Graph.xml', format='xml')\n",
    "g.serialize(destination='dataset/5_stelle/Graph.ttl', format='ttl')\n"
   ]
  },
  {
   "cell_type": "code",
   "execution_count": 11,
   "metadata": {},
   "outputs": [
    {
     "name": "stdout",
     "output_type": "stream",
     "text": [
      "Casa Don Secchiaroli,   CATEGORIA: Case per Ferie\n",
      "Welcome In Florence,   CATEGORIA: Case per Vacanze\n",
      "Palazzo Dei Ciompi,   CATEGORIA: Case per Vacanze\n",
      "Il Frantoio Delle Grazie,   CATEGORIA: Case per Vacanze\n",
      "Residenza Rondinelli,   CATEGORIA: Case per Vacanze\n",
      "San Domenico,   CATEGORIA: Case per Vacanze\n",
      "Fattoria Primavera Mario Bianchi,   CATEGORIA: Case per Vacanze\n",
      "Il Defizio,   CATEGORIA: Case per Vacanze\n",
      "Tenuta Sant'ilario,   CATEGORIA: Case per Vacanze\n",
      "Il Casello,   CATEGORIA: Case per Vacanze\n",
      "Castello Melazzano,   CATEGORIA: Case per Vacanze\n",
      "Villa Castiglione,   CATEGORIA: Case per Ferie\n",
      "Torre Rossa Appartamenti,   CATEGORIA: Case per Vacanze\n",
      "San Benedetto,   CATEGORIA: Case per Vacanze\n",
      "Il Castellare Di Tonda,   CATEGORIA: Case per Vacanze\n",
      "La Valle,   CATEGORIA: Case per Vacanze\n",
      "Immobiliare Rodilosso Srl,   CATEGORIA: Case per Vacanze\n",
      "La Casina,   CATEGORIA: Case per Vacanze\n",
      "Bosco Lazzeroni,   CATEGORIA: Case per Vacanze\n",
      "Borgoiano In Toscana,   CATEGORIA: Case per Vacanze\n",
      "Casa Leccino,   CATEGORIA: Case per Vacanze\n",
      "Belmonte,   CATEGORIA: Case per Vacanze\n",
      "La Leopoldina,   CATEGORIA: Case per Vacanze\n",
      "La Collinella,   CATEGORIA: Case per Vacanze\n",
      "Montaione,   CATEGORIA: Case per Vacanze\n",
      "Montevago,   CATEGORIA: Case per Vacanze\n",
      "Il Colle Di Sotto,   CATEGORIA: Case per Vacanze\n",
      "Le Torri,   CATEGORIA: Case per Vacanze\n",
      "Podere Casanova,   CATEGORIA: Case per Vacanze\n",
      "Monteborgo,   CATEGORIA: Case per Vacanze\n",
      "Fattoria La Torre,   CATEGORIA: Case per Vacanze\n",
      "La Favilletta,   CATEGORIA: Case per Vacanze\n",
      "Art,   CATEGORIA: Case per Vacanze\n",
      "Le Rose,   CATEGORIA: Case per Vacanze\n",
      "Don Orione,   CATEGORIA: Case per Ferie\n",
      "Le Corti,   CATEGORIA: Case per Vacanze\n",
      "Fattoria Querceto,   CATEGORIA: Case per Vacanze\n",
      "Le Quercioline,   CATEGORIA: Case per Vacanze\n",
      "Villa Il Borraccio,   CATEGORIA: Case per Vacanze\n",
      "La Vignola Residence Chez Moi,   CATEGORIA: Case per Vacanze\n",
      "Sport Village Ciocco,   CATEGORIA: Case per Vacanze\n",
      "La Mezzaluna,   CATEGORIA: Case per Vacanze\n",
      "Borgo Giusto,   CATEGORIA: Case per Vacanze\n",
      "L'argilla,   CATEGORIA: Case per Vacanze\n",
      "Le Pianacce,   CATEGORIA: Case per Vacanze\n",
      "Al Foionco,   CATEGORIA: Case per Vacanze\n",
      "Le Muse,   CATEGORIA: Case per Vacanze\n",
      "Garfagnana Quality Tourism,   CATEGORIA: Case per Vacanze\n",
      "Residence Il Patriarca,   CATEGORIA: Case per Vacanze\n",
      "Casa Carbonaia,   CATEGORIA: Case per Vacanze\n",
      "La Porta Di Mignana,   CATEGORIA: Case per Vacanze\n",
      "Scaldasole,   CATEGORIA: Case per Vacanze\n",
      "Santa Maria,   CATEGORIA: Case per Vacanze\n",
      "Il Vichiaccio,   CATEGORIA: Case per Vacanze\n",
      "Residence Dei Fiori,   CATEGORIA: Case per Vacanze\n",
      "Appartamenti Le Fornaci,   CATEGORIA: Case per Vacanze\n",
      "Bungalow Appartamenti Lacona,   CATEGORIA: Case per Vacanze\n",
      "Villa Europa,   CATEGORIA: Case per Vacanze\n",
      "Sera E Mattino,   CATEGORIA: Case per Vacanze\n",
      "Appartamenti Elba Serena,   CATEGORIA: Case per Vacanze\n",
      "Appartamenti Airone,   CATEGORIA: Case per Vacanze\n",
      "Villa Cecilia,   CATEGORIA: Case per Vacanze\n",
      "Appartamenti Lisa,   CATEGORIA: Case per Vacanze\n",
      "Lunezia Resort,   CATEGORIA: Case per Vacanze\n",
      "Al Settimo Cielo,   CATEGORIA: Case per Vacanze\n",
      "Toscana Holiday,   CATEGORIA: Case per Vacanze\n",
      "Canonica Di Cotto,   CATEGORIA: Case per Vacanze\n",
      "Panoramic,   CATEGORIA: Case per Vacanze\n",
      "Panoramic 1,   CATEGORIA: Case per Vacanze\n",
      "La Rondine,   CATEGORIA: Case per Vacanze\n",
      "M & S Soggiorni,   CATEGORIA: Case per Vacanze\n",
      "Vertine,   CATEGORIA: Case per Vacanze\n",
      "Casa Italia,   CATEGORIA: Case per Vacanze\n",
      "Azienda Turistica Il Borghetto Andrea Tafi,   CATEGORIA: Case per Vacanze\n",
      "Villa Le Panche,   CATEGORIA: Case per Vacanze\n",
      "Villa Morelli Gualtierotti,   CATEGORIA: Case per Vacanze\n",
      "La Rocca Del Maestrino,   CATEGORIA: Case per Vacanze\n",
      "Borgo Casa Al Vento,   CATEGORIA: Case per Vacanze\n",
      "Relais La Belluccia,   CATEGORIA: Case per Vacanze\n",
      "Poggio Ai Venti,   CATEGORIA: Case per Vacanze\n",
      "Paluffo,   CATEGORIA: Case per Vacanze\n",
      "Podere Vigliano,   CATEGORIA: Case per Vacanze\n",
      "Borgo Di Casagrande,   CATEGORIA: Case per Vacanze\n",
      "Casa Bonorli,   CATEGORIA: Case per Vacanze\n",
      "Poggio Gavignano,   CATEGORIA: Case per Vacanze\n",
      "A Casa Di Alice,   CATEGORIA: Case per Vacanze\n",
      "Appartamento Blu,   CATEGORIA: Case per Vacanze\n",
      "Holiday House David Florence,   CATEGORIA: Case per Vacanze\n",
      "Platinhome,   CATEGORIA: Case per Vacanze\n",
      "La Collina Dei Cipressi,   CATEGORIA: Case per Vacanze\n",
      "Appartamento Il Tufo Rosa,   CATEGORIA: Case per Vacanze\n",
      "Alice Del Lago,   CATEGORIA: Case per Vacanze\n",
      "Podere Chiantini,   CATEGORIA: Case per Vacanze\n",
      "Podere Le Passerine,   CATEGORIA: Case per Vacanze\n",
      "Gredo,   CATEGORIA: Case per Vacanze\n",
      "Casa Al Parco,   CATEGORIA: Case per Vacanze\n",
      "Borgo Di Pratavecchie,   CATEGORIA: Case per Vacanze\n",
      "Cristina Casa Vacanze,   CATEGORIA: Case per Vacanze\n",
      "Palazzo Del Duca,   CATEGORIA: Case per Vacanze\n",
      "La Casatorre,   CATEGORIA: Case per Vacanze\n",
      "Il Mulino Del Tempo Perduto,   CATEGORIA: Case per Vacanze\n",
      "Le Roccaglie,   CATEGORIA: Case per Vacanze\n",
      "L'oliveta,   CATEGORIA: Case per Vacanze\n",
      "Toscana Family Holidays,   CATEGORIA: Case per Vacanze\n",
      "Anemone Aprtments,   CATEGORIA: Case per Vacanze\n",
      "Casale Santamaria,   CATEGORIA: Case per Vacanze\n",
      "Immobiliare Ippocampo S.R.L. 1,   CATEGORIA: Case per Vacanze\n",
      "Bartalucci Angela - \"la Fonte Del Salcio\",   CATEGORIA: Case per Vacanze\n",
      "Futura C.A.V.,   CATEGORIA: Case per Vacanze\n",
      "I Salici Del Pingrosso,   CATEGORIA: Case per Vacanze\n",
      "Arcobaleno,   CATEGORIA: Case per Vacanze\n",
      "Rio Grande,   CATEGORIA: Case per Vacanze\n",
      "Il Convento Di Montepozzali,   CATEGORIA: Case per Vacanze\n",
      "Il Girifalco S.R.L. - Villa Pegaso,   CATEGORIA: Case per Vacanze\n",
      "La Locanda Del Minatore Sas,   CATEGORIA: Case per Vacanze\n",
      "Casa Marta,   CATEGORIA: Case per Vacanze\n",
      "Podere Sant'angelo,   CATEGORIA: Case per Vacanze\n",
      "Casa In Maremma,   CATEGORIA: Case per Vacanze\n",
      "Piancasale,   CATEGORIA: Case per Vacanze\n",
      "Il Tritone,   CATEGORIA: Case per Vacanze\n",
      "Le Crete Vacanze,   CATEGORIA: Case per Vacanze\n",
      "Podere Finerri,   CATEGORIA: Case per Vacanze\n",
      "Podere Sant'antonio,   CATEGORIA: Case per Vacanze\n",
      "Casale Refoli,   CATEGORIA: Case per Vacanze\n",
      "Fattoria Di Corsignano,   CATEGORIA: Case per Vacanze\n",
      "Villa Bolgherello,   CATEGORIA: Case per Vacanze\n",
      "Campotondo,   CATEGORIA: Case per Vacanze\n",
      "Otium,   CATEGORIA: Case per Vacanze\n",
      "Poggio Delle Rose,   CATEGORIA: Case per Vacanze\n",
      "Papena,   CATEGORIA: Case per Vacanze\n",
      "La Casina,   CATEGORIA: Case per Vacanze\n",
      "Fonternino,   CATEGORIA: Case per Vacanze\n",
      "Villa I Tigli,   CATEGORIA: Case per Vacanze\n",
      "Argenina Country House,   CATEGORIA: Case per Vacanze\n",
      "Villa Vistarenni,   CATEGORIA: Case per Vacanze\n",
      "Il Campuccio Di San Regolo,   CATEGORIA: Case per Vacanze\n",
      "Borgo Delle More,   CATEGORIA: Case per Vacanze\n",
      "Villa Nottola,   CATEGORIA: Case per Vacanze\n",
      "La Casa Della Querce,   CATEGORIA: Case per Vacanze\n",
      "Antico Podere,   CATEGORIA: Case per Vacanze\n",
      "Cantini Fabio,   CATEGORIA: Case per Vacanze\n",
      "Il Casale Di Villore,   CATEGORIA: Case per Vacanze\n",
      "Casa Vacanze Casastieri,   CATEGORIA: Case per Vacanze\n",
      "Casa Vacanze Il Casettino,   CATEGORIA: Case per Vacanze\n",
      "Casa Vacanze Ribocchi,   CATEGORIA: Case per Vacanze\n",
      "Castello Di Fulignano,   CATEGORIA: Case per Vacanze\n",
      "Villa Denise,   CATEGORIA: Case per Vacanze\n",
      "Il Borghettino,   CATEGORIA: Case per Vacanze\n",
      "Fonte Del Castagno,   CATEGORIA: Case per Vacanze\n",
      "Podere La Casina,   CATEGORIA: Case per Vacanze\n",
      "Piccolo Borgo Gagnoni,   CATEGORIA: Case per Vacanze\n",
      "Podere Incrociati,   CATEGORIA: Case per Vacanze\n",
      "Casavacanze Arianna,   CATEGORIA: Case per Vacanze\n",
      "Casa Per Ferie Cristall,   CATEGORIA: Case per Ferie\n",
      "Villa Piani Residence,   CATEGORIA: Case per Vacanze\n",
      "Futura C.A.V.,   CATEGORIA: Case per Vacanze\n",
      "Pian Delle More,   CATEGORIA: Case per Vacanze\n",
      "Casa Vacanze Il Chiostro,   CATEGORIA: Case per Vacanze\n",
      "Casa Vacanze Valdicciola,   CATEGORIA: Case per Vacanze\n",
      "Casa Vacanze La Baciocca,   CATEGORIA: Case per Vacanze\n",
      "La Corte Del Re,   CATEGORIA: Case per Vacanze\n",
      "Il Boschetto,   CATEGORIA: Case per Vacanze\n",
      "Casa Vacanze Teresa,   CATEGORIA: Case per Vacanze\n",
      "Casa Cornacchi,   CATEGORIA: Case per Vacanze\n",
      "Poggio Ugo Vacanze,   CATEGORIA: Case per Vacanze\n",
      "Villa Petrea,   CATEGORIA: Case per Vacanze\n",
      "Casa Vacanze Il Borgo,   CATEGORIA: Case per Vacanze\n",
      "La Luna Nel Pozzo,   CATEGORIA: Case per Vacanze\n",
      "Casale Di Brolio,   CATEGORIA: Case per Vacanze\n",
      "Casa La Quiete,   CATEGORIA: Case per Vacanze\n",
      "Seven Resort,   CATEGORIA: Case per Vacanze\n",
      "La Mucchia,   CATEGORIA: Case per Vacanze\n",
      "Podere Casa Rotta,   CATEGORIA: Case per Vacanze\n",
      "Il Borgo Dei Corsi,   CATEGORIA: Case per Vacanze\n",
      "Fattoria Di Corsignano,   CATEGORIA: Case per Vacanze\n",
      "La Cava,   CATEGORIA: Case per Vacanze\n",
      "Monna Tancia,   CATEGORIA: Case per Vacanze\n",
      "Podere Il Doccio,   CATEGORIA: Case per Vacanze\n",
      "Fattoria Della Nave,   CATEGORIA: Case per Vacanze\n",
      "Colombai Country Villa,   CATEGORIA: Case per Vacanze\n",
      "Palazzo Del Borgo,   CATEGORIA: Case per Vacanze\n",
      "Le Vecchie Cantine,   CATEGORIA: Case per Vacanze\n",
      "Villa Rossana,   CATEGORIA: Case per Vacanze\n",
      "Podere S. Antonio,   CATEGORIA: Case per Vacanze\n",
      "Il Borgo - Centro Vacanze,   CATEGORIA: Case per Vacanze\n",
      "Castello Di Querceto,   CATEGORIA: Case per Vacanze\n",
      "Case Di Gello,   CATEGORIA: Case per Vacanze\n",
      "Villa Poggio Al Pruno,   CATEGORIA: Case per Vacanze\n",
      "Relais Borgo Il Massera,   CATEGORIA: Case per Vacanze\n",
      "Fattoria Varramista Spa,   CATEGORIA: Case per Vacanze\n",
      "Palaria,   CATEGORIA: Case per Vacanze\n",
      "Il Casolare Val Di Mare,   CATEGORIA: Case per Vacanze\n",
      "Borgo San Pecoraio,   CATEGORIA: Case per Vacanze\n",
      "Borgo Felciaione,   CATEGORIA: Case per Vacanze\n",
      "Borgo San Carlo,   CATEGORIA: Case per Vacanze\n",
      "Le Ginepraie,   CATEGORIA: Case per Vacanze\n",
      "Borgo Della Speranza,   CATEGORIA: Case per Vacanze\n",
      "Villa Sensano,   CATEGORIA: Case per Vacanze\n",
      "Santa Croce In Fossabanda,   CATEGORIA: Case per Ferie\n",
      "La Capperaia,   CATEGORIA: Case per Vacanze\n",
      "Borgo Bottaia,   CATEGORIA: Case per Vacanze\n",
      "La Valle Dei Medici,   CATEGORIA: Case per Vacanze\n",
      "La Fratta,   CATEGORIA: Case per Vacanze\n",
      "La Canonica Di Cortine,   CATEGORIA: Case per Vacanze\n",
      "Antiche Mura,   CATEGORIA: Case per Vacanze\n",
      "Villa El Shaddai,   CATEGORIA: Case per Ferie\n",
      "La Corte D'elsa,   CATEGORIA: Case per Vacanze\n",
      "Gli Oleandri,   CATEGORIA: Case per Vacanze\n",
      "Borgo Dei Lunardi,   CATEGORIA: Case per Vacanze\n",
      "Borgo Filicaja,   CATEGORIA: Case per Vacanze\n",
      "Le Casacce Di Pratelli Laura E C. S.A.S.,   CATEGORIA: Case per Vacanze\n",
      "Villa Avanella,   CATEGORIA: Case per Vacanze\n",
      "Casali Dei Ciompi,   CATEGORIA: Case per Vacanze\n",
      "I Massini,   CATEGORIA: Case per Vacanze\n",
      "La Masseria,   CATEGORIA: Case per Vacanze\n",
      "Villa Somelli,   CATEGORIA: Case per Vacanze\n"
     ]
    }
   ],
   "source": [
    "from rdflib import Graph\n",
    "\n",
    "g = Graph()\n",
    "g.parse(\"dataset/5_stelle/Graph.ttl\", format=\"ttl\")\n",
    "\n",
    "#Nome e categoria dei locali, limitati a 10\n",
    "query = \"\"\"\n",
    "PREFIX lt_o: <http://www.localitoscana.it/ontology/>\n",
    "\n",
    "SELECT ?name ?categoria\n",
    "WHERE {\n",
    "  ?place a lt_o:Localita ;     \n",
    "         lt_o:hasName ?name ;\n",
    "         lt_o:hasCategory ?categoria .\n",
    "}\n",
    "LIMIT 10\n",
    "\"\"\"\n",
    "\n",
    "#Locali che si trovano a Firenze\n",
    "query2=\"\"\"\n",
    "PREFIX lt_o: <http://www.localitoscana.it/ontology/>\n",
    "PREFIX owl: <http://www.w3.org/2002/07/owl#>\n",
    "\n",
    "SELECT ?place ?name ?category ?latitude ?longitude\n",
    "WHERE {\n",
    "  ?place a lt_o:Localita ;\n",
    "        \n",
    "         owl:sameAs <http://dbpedia.org/resource/Florence> .\n",
    "}\n",
    "\n",
    "\"\"\"\n",
    "\n",
    " \n",
    "#Locali che contengono l'occorrenza \"casa\" o \"case\" nella categoria\n",
    "query3 = \"\"\"\n",
    "  \n",
    "  PREFIX lt_o: <http://www.localitoscana.it/ontology/>\n",
    "\n",
    "SELECT ?place ?name ?category ?latitude ?longitude\n",
    "WHERE {\n",
    "  ?place a lt_o:Localita ;\n",
    "         lt_o:hasName ?name ;\n",
    "         lt_o:hasCategory ?category ;\n",
    "         lt_o:hasLatitude ?latitude ;\n",
    "         lt_o:hasLongitude ?longitude .\n",
    "  \n",
    "  FILTER(REGEX(?category, \"casa|case\", \"i\"))\n",
    "}\n",
    "\n",
    "  \n",
    "\"\"\"\n",
    "\n",
    "\n",
    "results = g.query(query3)\n",
    "\n",
    "for row in results:\n",
    "    print(row[\"name\"] + \",   CATEGORIA: \" + row[\"category\"])\n"
   ]
  },
  {
   "cell_type": "markdown",
   "metadata": {},
   "source": [
    "***\n",
    "***\n",
    "# __`6) Data Visualization`__"
   ]
  },
  {
   "cell_type": "markdown",
   "metadata": {},
   "source": [
    "Usufruiamo sul dataset originale relativo al movimento della popolazione in Toscana nel 2022, per vedere come è cambiato il numero di residenti dal 1 gennaio al 31 dicembre nelle città capoluogo di provincia. Utilizziamo la libreria _matplotlib_."
   ]
  },
  {
   "cell_type": "code",
   "execution_count": 121,
   "metadata": {},
   "outputs": [
    {
     "data": {
      "image/png": "[encoded data removed]",
      "text/plain": [
       "<Figure size 1000x800 with 1 Axes>"
      ]
     },
     "metadata": {},
     "output_type": "display_data"
    }
   ],
   "source": [
    "import pandas as pd\n",
    "import matplotlib.pyplot as plt\n",
    "\n",
    "df = pd.read_csv(\"dataset/originali/movimento_popolazione_2022.csv\")\n",
    "\n",
    "#selezioniamo solo i comuni che ci interessano, ovvero i capoluoghi di provincia\n",
    "comuni_interesse = ['Firenze', 'Arezzo', 'Grosseto', 'Livorno', 'Lucca', 'Massa-Carrara', 'Pisa', 'Pistoia', 'Prato', 'Siena']\n",
    "\n",
    "\n",
    "df_selected = df[df['Territorio'].isin(comuni_interesse)][['Territorio', 'popolazione al 1 gennaio', 'popolazione al 31 dicembre']]\n",
    "\n",
    "#ordiniamo il DataFrame in base alla differenza tra le popolazioni\n",
    "df_selected['dif'] = df_selected['popolazione al 31 dicembre'] - df_selected['popolazione al 1 gennaio']\n",
    "df_selected_sorted = df_selected.sort_values(by='dif', ascending=False)\n",
    "\n",
    "ax = df_selected_sorted.plot.barh(x='Territorio', y=['popolazione al 1 gennaio', 'popolazione al 31 dicembre'], color=['black', 'blue'], figsize=(10, 8))\n",
    "ax.set_xlabel('Popolazione')\n",
    "ax.set_ylabel('Comune')\n",
    "ax.set_title('Confronto tra Popolazione al 1 Gennaio e al 31 Dicembre (2022) per i Comuni')\n",
    "plt.show()\n"
   ]
  },
  {
   "cell_type": "markdown",
   "metadata": {},
   "source": [
    "Notiamo che non vi è una differenza di popolazione significativa tra l'inizio e la fine dell'anno"
   ]
  },
  {
   "cell_type": "code",
   "execution_count": 119,
   "metadata": {},
   "outputs": [
    {
     "name": "stdout",
     "output_type": "stream",
     "text": [
      "Popolazione per provincia:\n",
      "       Provincia  Popolazione\n",
      "0         Arezzo    4651696.0\n",
      "1        Firenze   95964123.0\n",
      "2       Grosseto    4532039.0\n",
      "3        Livorno    3357903.0\n",
      "4          Lucca    7099403.0\n",
      "5  Massa-carrara    2536277.0\n",
      "6           Pisa    6839421.0\n",
      "7        Pistoia    3086508.0\n",
      "8          Prato    3487251.0\n",
      "9          Siena    3755909.0\n"
     ]
    },
    {
     "data": {
      "image/png": "[encoded data removed]",
      "text/plain": [
       "<Figure size 1200x800 with 1 Axes>"
      ]
     },
     "metadata": {},
     "output_type": "display_data"
    }
   ],
   "source": [
    "import pandas as pd\n",
    "import matplotlib.pyplot as plt\n",
    "\n",
    "df = pd.read_csv(\"dataset/merge/Merged.csv\")\n",
    "\n",
    "#Filtriamo solo le righe con categoria diversa da Ristorante e Bottega poiché tali valori li possiede \n",
    "#solo Firenze\n",
    "df_strutture_ricettive = df[~df['Categoria'].isin(['Ristorante', 'Bottega'])]\n",
    "\n",
    "# Popolazione totale di ogni provincia ottenuta come somma dei vari comuni per ogni popolazione\n",
    "popolazione_per_provincia = df.groupby('Provincia')['Popolazione'].sum().reset_index()\n",
    "num_strutture_per_provincia = df_strutture_ricettive.groupby('Provincia')['Id'].count().reset_index()\n",
    "num_strutture_per_provincia.columns = ['Provincia', 'NumeroStrutture']\n",
    "\n",
    "df_provincia_info = pd.merge(popolazione_per_provincia, num_strutture_per_provincia, on='Provincia')\n",
    "\n",
    "#vediamo la popolazione per ogni provincia\n",
    "print(\"Popolazione per provincia:\")\n",
    "print(df_provincia_info[['Provincia', 'Popolazione']])\n",
    "\n",
    "fig, ax = plt.subplots(figsize=(12, 8)) #dimensione del grafico a dispersione\n",
    "\n",
    "#grafico a dispersione\n",
    "ax.scatter(df_provincia_info['Popolazione'], df_provincia_info['NumeroStrutture'], color='blue')\n",
    "\n",
    "ax.set_xlabel('Popolazione')\n",
    "ax.set_ylabel('Numero di Strutture Ricettive')\n",
    "ax.set_title('Relazione tra Popolazione e Numero di Strutture Ricettive per Provincia')\n",
    "\n",
    "for i, row in df_provincia_info.iterrows():\n",
    "    ax.annotate(row['Provincia'], (row['Popolazione'], row['NumeroStrutture']))\n",
    "\n",
    "plt.show()\n"
   ]
  },
  {
   "cell_type": "markdown",
   "metadata": {},
   "source": [
    "Notiamo come Siena, nonostante abbia una popolazione sotto la media, è seconda per numero di strutture ricettive sotto Firenze."
   ]
  },
  {
   "cell_type": "markdown",
   "metadata": {},
   "source": [
    "Un risultato altrettanto significativo riguardo la città di Siena si può evincere selezionando la singola categoria \"Alberghi\". Questa volta utilizziamo una query Sparql:\n"
   ]
  },
  {
   "cell_type": "code",
   "execution_count": 3,
   "metadata": {},
   "outputs": [
    {
     "data": {
      "image/png": "[encoded data removed]",
      "text/plain": [
       "<Figure size 1200x800 with 1 Axes>"
      ]
     },
     "metadata": {},
     "output_type": "display_data"
    }
   ],
   "source": [
    "from rdflib import Graph, Namespace, URIRef\n",
    "import pandas as pd\n",
    "import matplotlib.pyplot as plt\n",
    "\n",
    "g = Graph()\n",
    "g.parse(\"dataset/5_stelle/Graph.ttl\", format=\"ttl\")\n",
    "\n",
    "\n",
    "lt_o = Namespace(\"http://www.localitoscana.it/ontology/\")\n",
    "\n",
    "\n",
    "query = \"\"\"\n",
    "PREFIX lt_o: <http://www.localitoscana.it/ontology/>\n",
    "PREFIX xsd: <http://www.w3.org/2001/XMLSchema#>\n",
    "\n",
    "SELECT ?province (COUNT(?struttura) AS ?numAlberghi)\n",
    "WHERE {\n",
    "  ?struttura lt_o:hasCategory \"Alberghi\"^^xsd:string ;\n",
    "             lt_o:hasProv ?province .\n",
    "}\n",
    "GROUP BY ?province\n",
    "ORDER BY ?province\n",
    "\n",
    "\"\"\"\n",
    "\n",
    "\n",
    "results = g.query(query)\n",
    "\n",
    "data = []\n",
    "for result in results:\n",
    "    provincia = result[0]\n",
    "    num_alberghi = int(result[1])\n",
    "    data.append({\"Provincia\": provincia, \"Numero Alberghi\": num_alberghi})\n",
    "\n",
    "df = pd.DataFrame(data)\n",
    "\n",
    "\n",
    "plt.figure(figsize=(12, 8))\n",
    "plt.pie(df[\"Numero Alberghi\"], labels=df[\"Provincia\"], autopct='%1.1f%%')\n",
    "plt.axis('equal')  \n",
    "plt.title('Distribuzione degli Alberghi per Provincia')\n",
    "plt.show()\n",
    "\n"
   ]
  },
  {
   "cell_type": "markdown",
   "metadata": {},
   "source": [
    "_Distribuzione degli Alberghi per provincia._"
   ]
  },
  {
   "cell_type": "markdown",
   "metadata": {},
   "source": [
    "_________________________________________________________________________________________________________________________________________________<br>\n",
    "_Visualizzazione con uMap_<br>\n",
    "\n",
    "\n",
    "Attraverso `uMap`, servizio fornito da `OpenStreeMap` è possibile creare, visualizzare e salvare mappe a partire dai vari datasets. Il link seguente mostra la mappa dei locali su cui è stato svolto il report:\n",
    "https://umap.openstreetmap.fr/it/map/anonymous-edit/1016506:kTSsDC_64iSV9CmG0Qv_SiyC4v39V4W96DwPRuf4nFI"
   ]
  }
 ],
 "metadata": {
  "kernelspec": {
   "display_name": "Python 3",
   "language": "python",
   "name": "python3"
  },
  "language_info": {
   "codemirror_mode": {
    "name": "ipython",
    "version": 3
   },
   "file_extension": ".py",
   "mimetype": "text/x-python",
   "name": "python",
   "nbconvert_exporter": "python",
   "pygments_lexer": "ipython3",
   "version": "3.11.5"
  }
 },
 "nbformat": 4,
 "nbformat_minor": 2
}
