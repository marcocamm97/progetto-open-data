{
 "cells": [
  {
   "cell_type": "markdown",
   "metadata": {},
   "source": [
    "Supponiamo che il cliente, una volta dopo aver alloggiato in albergo, voglia scegliere tra i tre ristoranti più vicini alla struttura in cui si trova, basandosi sulla sentiment analysis. Questi abbiamo visto essere: Caffè Le Rose, Giglio Rosso, Ristorante Sabatini."
   ]
  },
  {
   "cell_type": "code",
   "execution_count": 1,
   "metadata": {},
   "outputs": [
    {
     "name": "stdout",
     "output_type": "stream",
     "text": [
      "Ristorante: Trattoria La Madia, Recensione: La classica trappola per turisti, esperienza da non ripetere., Sentiment Type: negative, Sentiment Score: -0.85\n",
      "Ristorante: Trattoria La Madia, Recensione: Atmosfera piacevole, ma i prezzi sono un po' alti., Sentiment Type: positive, Sentiment Score: 0.8\n",
      "Ristorante: Trattoria La Madia, Recensione: Qualità del cibo nella media, prezzo comprensibile trovandomi in centro., Sentiment Type: neutral, Sentiment Score: 0.0\n",
      "Ristorante: Trattoria La Madia, Recensione: 20 euro per due bevande sono troppi, almeno però il personale è gentile., Sentiment Type: positive, Sentiment Score: 0.8\n",
      "Ristorante: Trattoria La Madia, Recensione: Consiglio vivamente questo posto., Sentiment Type: neutral, Sentiment Score: 0.0\n",
      "Ristorante: Ristorante Sabatini, Recensione: Servizio veloce e amichevole, ottimo cibo e ottima carta dei vini, Sentiment Type: positive, Sentiment Score: 0.8333333333333334\n",
      "Ristorante: Ristorante Sabatini, Recensione: Un'istituzione a Firenze, anche stasera esperienza positiva., Sentiment Type: positive, Sentiment Score: 0.8\n",
      "Ristorante: Ristorante Sabatini, Recensione: Cibo fantastico!, Sentiment Type: positive, Sentiment Score: 0.9\n",
      "Ristorante: Ristorante Sabatini, Recensione: Andare qui è come sentirsi a casa, Sentiment Type: positive, Sentiment Score: 0.7\n",
      "Ristorante: Ristorante Sabatini, Recensione: Per me il miglior posto dove andare se ci si trova in centro., Sentiment Type: neutral, Sentiment Score: 0.0\n",
      "Ristorante: Giglio Rosso, Recensione: Molto sponsorizzato, non per questo non buono., Sentiment Type: negative, Sentiment Score: -0.8666666666666666\n",
      "Ristorante: Giglio Rosso, Recensione: Ottima carne e buon rapporto/qualità prezzo, per essere in centro., Sentiment Type: positive, Sentiment Score: 0.8\n",
      "Ristorante: Giglio Rosso, Recensione: Molto soddisfacente nonostante l'arredamento antico., Sentiment Type: negative, Sentiment Score: -0.9\n",
      "Ristorante: Giglio Rosso, Recensione: Una buona opzione se vuoi mangiare bene spendendo poco., Sentiment Type: positive, Sentiment Score: 0.7\n",
      "Ristorante: Giglio Rosso, Recensione: I piatti erano saporiti, il servizio un po' lento. Ci tornerei., Sentiment Type: neutral, Sentiment Score: 0.0\n"
     ]
    }
   ],
   "source": [
    "import requests\n",
    "\n",
    "url = \"https://api.dandelion.eu/datatxt/sent/v1/\"\n",
    "token = \"your-token-here\"\n",
    "\n",
    "ristoranti_recensioni = {\n",
    "    \"Trattoria La Madia\": [\n",
    "        \"La classica trappola per turisti, esperienza da non ripetere.\",\n",
    "        \"Atmosfera piacevole, ma i prezzi sono un po' alti.\",\n",
    "        \"Qualità del cibo nella media, prezzo comprensibile trovandomi in centro.\",\n",
    "        \"20 euro per due bevande sono troppi, almeno però il personale è gentile.\",\n",
    "        \"Consiglio vivamente questo posto.\"\n",
    "    ],\n",
    "    \"Ristorante Sabatini\": [\n",
    "        \"Servizio veloce e amichevole, ottimo cibo e ottima carta dei vini\",\n",
    "        \"Un'istituzione a Firenze, anche stasera esperienza positiva.\",\n",
    "        \"Cibo fantastico!\",\n",
    "        \"Andare qui è come sentirsi a casa\",\n",
    "        \"Per me il miglior posto dove andare se ci si trova in centro.\"\n",
    "    ],\n",
    "    \"Giglio Rosso\": [\n",
    "        \"Molto sponsorizzato, non per questo non buono.\",\n",
    "        \"Ottima carne e buon rapporto/qualità prezzo, per essere in centro.\",\n",
    "        \"Molto soddisfacente nonostante l'arredamento antico.\",\n",
    "        \"Una buona opzione se vuoi mangiare bene spendendo poco.\",\n",
    "        \"I piatti erano saporiti, il servizio un po' lento. Ci tornerei.\"\n",
    "    ]\n",
    "}\n",
    "\n",
    "\n",
    "results = []\n",
    "\n",
    "#richiesta per ciascun ristorante e recensione\n",
    "for ristorante, recensioni in ristoranti_recensioni.items():\n",
    "    for review in recensioni:\n",
    "        try:\n",
    "            #richiesta a Dandelion API per l'analisi del sentiment\n",
    "            payload = {\n",
    "                \"token\": token,\n",
    "                \"text\": review\n",
    "            }\n",
    "            response = requests.post(url, data=payload)\n",
    "            \n",
    "           \n",
    "            result = response.json()[\"sentiment\"]\n",
    "            sentiment_score = result.get(\"score\", \"\")\n",
    "            sentiment_type = result.get(\"type\", \"\")\n",
    "            \n",
    "        \n",
    "            results.append({\n",
    "                \"restaurant_name\": ristorante,\n",
    "                \"review\": review,\n",
    "                \"sentiment_type\": sentiment_type,\n",
    "                \"sentiment_score\": sentiment_score\n",
    "            })\n",
    "        except Exception as e:\n",
    "            print(f\"Errore durante la richiesta API: {e}\")\n",
    "\n",
    "\n",
    "for result in results:\n",
    "    print(f\"Ristorante: {result['restaurant_name']}, Recensione: {result['review']}, Sentiment Type: {result['sentiment_type']}, Sentiment Score: {result['sentiment_score']}\")\n",
    "\n"
   ]
  },
  {
   "cell_type": "markdown",
   "metadata": {},
   "source": [
    "Risultati:\n",
    "<div align=\"center\">\n",
    "    <img src=\"immagini/risultati_sa.png\" width=\"1200\" height=\"auto\">"
   ]
  },
  {
   "cell_type": "markdown",
   "metadata": {},
   "source": [
    "Dopo aver fatto un'opportuna scalatura di tali valori in una scala che va da 0 a 5 stelle, e aver fatto la media delle valutazioni di ognuno dei tre ristoranti, ho modificato i valori della colonna \"Valutazione\" nel CSV in _OpenRefine_."
   ]
  },
  {
   "cell_type": "code",
   "execution_count": 2,
   "metadata": {},
   "outputs": [
    {
     "name": "stdout",
     "output_type": "stream",
     "text": [
      "Top 3 Locali Meno Distanti:\n",
      "Nome: Ristorante Sabatini, Distanza: 0.07336347138349435 km, Valutazione: 3.6\n",
      "Nome: Giglio Rosso, Distanza: 0.09940643977472921 km, Valutazione: 2.0\n",
      "Nome: Trattoria La Madia, Distanza: 0.13128334050686882 km, Valutazione: 2.5\n",
      "\n",
      "Rapporto Distanza/Valutazione per i tre Locali:\n",
      "Nome: Ristorante Sabatini, Rapporto: 0.020378742050970653\n",
      "Nome: Giglio Rosso, Rapporto: 0.049703219887364605\n",
      "Nome: Trattoria La Madia, Rapporto: 0.05251333620274753\n"
     ]
    }
   ],
   "source": [
    "import geopy.distance\n",
    "import pandas as pd\n",
    "\n",
    "#Nuovo csv\n",
    "df = pd.read_csv(\"dataset/merge/Merged-with-sentimentanalysis.csv\")\n",
    "\n",
    "#Coordinate dell'hotel Universo\n",
    "target_lat = 43.7740221\n",
    "target_lon = 11.2499259\n",
    "target = (target_lat, target_lon)\n",
    "\n",
    "min_distance = float('inf')\n",
    "nearest_location = None\n",
    "\n",
    "top_locations = []\n",
    "\n",
    "for index, row in df.iterrows():\n",
    "    if row['Valutazione'] != 0 and row['Categoria'] in ['Ristorante', 'Bottege']:\n",
    "        location_coords = (row['Latitudine'], row['Longitudine'])\n",
    "        \n",
    "        distance = geopy.distance.geodesic(target, location_coords).km\n",
    "\n",
    "        if distance < min_distance:\n",
    "            min_distance = distance\n",
    "            nearest_location = row['Nome'], row['Latitudine'], row['Longitudine'], row['Valutazione']\n",
    "\n",
    "        top_locations.append({\n",
    "            'Nome': row['Nome'],\n",
    "            'Distanza': distance,\n",
    "            'Valutazione': row['Valutazione']\n",
    "        })\n",
    "top_locations = sorted(top_locations, key=lambda x: x['Distanza'])[:3]\n",
    "\n",
    "#top 3 dei locali meno distanti\n",
    "print(\"Top 3 Locali Meno Distanti:\")\n",
    "for loc in top_locations:\n",
    "    print(f\"Nome: {loc['Nome']}, Distanza: {loc['Distanza']} km, Valutazione: {loc['Valutazione']}\")\n",
    "\n",
    "#rapporto distanza/valutazione per ognuno dei tre locali\n",
    "print(\"\\nRapporto Distanza/Valutazione per i tre Locali:\")\n",
    "for loc in top_locations:\n",
    "    ratio = loc['Distanza'] / loc['Valutazione']\n",
    "    print(f\"Nome: {loc['Nome']}, Rapporto: {ratio}\")\n"
   ]
  },
  {
   "cell_type": "markdown",
   "metadata": {},
   "source": [
    "Visualizzazione grafica:"
   ]
  },
  {
   "cell_type": "code",
   "execution_count": 3,
   "metadata": {},
   "outputs": [
    {
     "data": {
      "image/png": "[encoded data removed]",
      "text/plain": [
       "<Figure size 640x480 with 1 Axes>"
      ]
     },
     "metadata": {},
     "output_type": "display_data"
    }
   ],
   "source": [
    "import matplotlib.pyplot as plt\n",
    "\n",
    "plot_data = pd.DataFrame(top_locations, columns=['Nome', 'Distanza', 'Valutazione'])\n",
    "\n",
    "\n",
    "plot_data['Rapporto'] = plot_data['Distanza'] / plot_data['Valutazione']\n",
    "\n",
    "ax = plot_data.plot.barh(x='Nome', y=['Distanza', 'Valutazione'], stacked=True, color=['red', 'blue'], legend=False)\n",
    "ax.set_xlabel('Valori')\n",
    "ax.set_title('Distanza e Valutazione per i tre locali meno distanti')\n",
    "plt.show()"
   ]
  },
  {
   "cell_type": "markdown",
   "metadata": {},
   "source": [
    "_Disclaimer:\n",
    "Le recensioni sono puramente fittizie e non vogliono in alcun modo corrispondere o fare riferimento alla realtà._"
   ]
  }
 ],
 "metadata": {
  "kernelspec": {
   "display_name": "Python 3",
   "language": "python",
   "name": "python3"
  },
  "language_info": {
   "codemirror_mode": {
    "name": "ipython",
    "version": 3
   },
   "file_extension": ".py",
   "mimetype": "text/x-python",
   "name": "python",
   "nbconvert_exporter": "python",
   "pygments_lexer": "ipython3",
   "version": "3.11.5"
  }
 },
 "nbformat": 4,
 "nbformat_minor": 2
}
